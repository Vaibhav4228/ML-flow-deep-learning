{
 "cells": [
  {
   "cell_type": "code",
   "execution_count": 1,
   "id": "a6390ae4",
   "metadata": {},
   "outputs": [],
   "source": [
    "import os"
   ]
  },
  {
   "cell_type": "code",
   "execution_count": 2,
   "id": "5a77984a",
   "metadata": {},
   "outputs": [
    {
     "data": {
      "text/plain": [
       "'d:\\\\my projects\\\\ML assigment\\\\ML-flow-deep-learning\\\\research'"
      ]
     },
     "execution_count": 2,
     "metadata": {},
     "output_type": "execute_result"
    }
   ],
   "source": [
    "%pwd"
   ]
  },
  {
   "cell_type": "code",
   "execution_count": 3,
   "id": "dd4970ec",
   "metadata": {},
   "outputs": [],
   "source": [
    "os.chdir(\"../\")"
   ]
  },
  {
   "cell_type": "code",
   "execution_count": 4,
   "id": "189f4054",
   "metadata": {},
   "outputs": [
    {
     "data": {
      "text/plain": [
       "'d:\\\\my projects\\\\ML assigment\\\\ML-flow-deep-learning'"
      ]
     },
     "execution_count": 4,
     "metadata": {},
     "output_type": "execute_result"
    }
   ],
   "source": [
    "%pwd"
   ]
  },
  {
   "cell_type": "code",
   "execution_count": 5,
   "id": "c7e9f1d6",
   "metadata": {},
   "outputs": [],
   "source": [
    "os.environ[\"MLFLOW_TRACKING_URI\"]=\"https://dagshub.com/Vaibhav4228/ML-flow-deep-learning.mlflow\"\n",
    "os.environ[\"MLFLOW_TRACKING_USERNAME\"]=\"Vaibhav4228\"\n",
    "os.environ[\"MLFLOW_TRACKING_PASSWORD\"]=\"9af07288d31491162822c0a38a813088471c7b39\""
   ]
  },
  {
   "cell_type": "code",
   "execution_count": 6,
   "id": "3d3e66c8",
   "metadata": {},
   "outputs": [],
   "source": [
    "import tensorflow as tf"
   ]
  },
  {
   "cell_type": "code",
   "execution_count": 7,
   "id": "5f18cf76",
   "metadata": {},
   "outputs": [
    {
     "name": "stderr",
     "output_type": "stream",
     "text": [
      "WARNING:absl:Compiled the loaded model, but the compiled metrics have yet to be built. `model.compile_metrics` will be empty until you train or evaluate the model.\n"
     ]
    }
   ],
   "source": [
    "model = tf.keras.models.load_model(\"artifacts/training/model.h5\")"
   ]
  },
  {
   "cell_type": "code",
   "execution_count": 8,
   "id": "ec87c450",
   "metadata": {},
   "outputs": [],
   "source": [
    "from dataclasses import dataclass\n",
    "from pathlib import Path\n",
    "\n",
    "@dataclass(frozen=True)\n",
    "class EvaluationConfig:\n",
    "    path_of_model: Path\n",
    "    training_data: Path\n",
    "    all_params: dict\n",
    "    mlflow_uri: str\n",
    "    params_image_size: list\n",
    "    params_batch_size: int"
   ]
  },
  {
   "cell_type": "code",
   "execution_count": 9,
   "id": "d8446297",
   "metadata": {},
   "outputs": [],
   "source": [
    "\n",
    "from deepLearning.constants import *\n",
    "from deepLearning.utils.common import read_yaml, create_directories, save_json"
   ]
  },
  {
   "cell_type": "code",
   "execution_count": 10,
   "id": "ed10c102",
   "metadata": {},
   "outputs": [],
   "source": [
    "class ConfigurationManager:\n",
    "    def __init__(\n",
    "        self, \n",
    "        config_filepath = CONFIG_FILE_PATH,\n",
    "        params_filepath = PARAMS_FILE_PATH):\n",
    "        self.config = read_yaml(config_filepath)\n",
    "        self.params = read_yaml(params_filepath)\n",
    "        create_directories([self.config.artifacts_root])\n",
    "\n",
    "    \n",
    "    def get_evaluation_config(self) -> EvaluationConfig:\n",
    "        eval_config = EvaluationConfig(\n",
    "            path_of_model=\"artifacts/training/model.h5\",\n",
    "            training_data=\"artifacts/data_ingestion/data\",\n",
    "            mlflow_uri=\"https://dagshub.com/Vaibhav4228/ML-flow-deep-learning.mlflow\",\n",
    "            all_params=self.params,\n",
    "            params_image_size=self.params.IMAGE_SIZE,\n",
    "            params_batch_size=self.params.BATCH_SIZE\n",
    "        )\n",
    "        return eval_config"
   ]
  },
  {
   "cell_type": "code",
   "execution_count": 11,
   "id": "28a21121",
   "metadata": {},
   "outputs": [
    {
     "name": "stderr",
     "output_type": "stream",
     "text": [
      "d:\\anaconda\\envs\\mlops311\\Lib\\site-packages\\mlflow\\utils\\requirements_utils.py:12: UserWarning: pkg_resources is deprecated as an API. See https://setuptools.pypa.io/en/latest/pkg_resources.html. The pkg_resources package is slated for removal as early as 2025-11-30. Refrain from using this package or pin to Setuptools<81.\n",
      "  import pkg_resources\n"
     ]
    }
   ],
   "source": [
    "import tensorflow as tf\n",
    "from pathlib import Path\n",
    "import mlflow\n",
    "import mlflow.keras\n",
    "from urllib.parse import urlparse"
   ]
  },
  {
   "cell_type": "code",
   "execution_count": null,
   "id": "f9cc7160",
   "metadata": {},
   "outputs": [],
   "source": [
    "import tensorflow as tf\n",
    "import mlflow\n",
    "import tempfile\n",
    "import shutil\n",
    "from urllib.parse import urlparse\n",
    "from pathlib import Path\n",
    "from deepLearning.utils.common import save_json\n",
    "\n",
    "\n",
    "class Evaluation:\n",
    "    def __init__(self, config: EvaluationConfig):\n",
    "        self.config = config\n",
    "\n",
    "    def _valid_generator(self):\n",
    "        dg_kwargs = dict(rescale=1.0/255, validation_split=0.30)\n",
    "        df_kwargs = dict(\n",
    "            target_size=self.config.params_image_size[:-1],\n",
    "            batch_size=self.config.params_batch_size,\n",
    "            interpolation=\"bilinear\"\n",
    "        )\n",
    "        gen = tf.keras.preprocessing.image.ImageDataGenerator(**dg_kwargs)\n",
    "        self.valid_generator = gen.flow_from_directory(\n",
    "            directory=self.config.training_data,\n",
    "            subset=\"validation\",\n",
    "            shuffle=False,\n",
    "            **df_kwargs\n",
    "        )\n",
    "\n",
    "    @staticmethod\n",
    "    def load_model(path: Path) -> tf.keras.Model:\n",
    "        return tf.keras.models.load_model(str(path), compile=False)\n",
    "\n",
    "    def evaluation(self):\n",
    "        self.model = self.load_model(self.config.path_of_model)\n",
    "        self.model.compile(loss=\"categorical_crossentropy\", metrics=[\"accuracy\"])\n",
    "        self._valid_generator()\n",
    "        self.score = self.model.evaluate(self.valid_generator)\n",
    "        self.save_score()\n",
    "\n",
    "    def save_score(self):\n",
    "        scores = {\"loss\": float(self.score[0]), \"accuracy\": float(self.score[1])}\n",
    "        save_json(path=Path(\"scores.json\"), data=scores)\n",
    "\n",
    "    def log_into_mlflow(self):\n",
    "        mlflow.set_registry_uri(self.config.mlflow_uri)\n",
    "        scheme = urlparse(mlflow.get_tracking_uri()).scheme\n",
    "\n",
    "        mlflow.log_params(self.config.all_params)\n",
    "        mlflow.log_metrics({\"loss\": self.score[0], \"accuracy\": self.score[1]})\n",
    "\n",
    "        \n",
    "        tmpdir = tempfile.mkdtemp()\n",
    "        export_path = Path(tmpdir) / \"saved_model\"\n",
    "        self.model.export(str(export_path))\n",
    "\n",
    "        \n",
    "        run_kwargs = {\"nested\": True} if mlflow.active_run() else {}\n",
    "        with mlflow.start_run(**run_kwargs) as run:\n",
    "            mlflow.log_artifacts(str(export_path), artifact_path=\"model\")\n",
    "            if scheme != \"file\":\n",
    "                model_uri = f\"runs:/{run.info.run_id}/model\"\n",
    "                mlflow.register_model(model_uri, \"VGG16Model\")\n",
    "\n",
    "        shutil.rmtree(tmpdir)\n"
   ]
  },
  {
   "cell_type": "code",
   "execution_count": 24,
   "id": "b0aee01b",
   "metadata": {},
   "outputs": [
    {
     "name": "stdout",
     "output_type": "stream",
     "text": [
      "Found 52 images belonging to 2 classes.\n"
     ]
    },
    {
     "name": "stderr",
     "output_type": "stream",
     "text": [
      "d:\\anaconda\\envs\\mlops311\\Lib\\site-packages\\keras\\src\\trainers\\data_adapters\\py_dataset_adapter.py:121: UserWarning: Your `PyDataset` class should call `super().__init__(**kwargs)` in its constructor. `**kwargs` can include `workers`, `use_multiprocessing`, `max_queue_size`. Do not pass these arguments to `fit()`, as they will be ignored.\n",
      "  self._warn_if_super_not_called()\n"
     ]
    },
    {
     "name": "stdout",
     "output_type": "stream",
     "text": [
      "\u001b[1m4/4\u001b[0m \u001b[32m━━━━━━━━━━━━━━━━━━━━\u001b[0m\u001b[37m\u001b[0m \u001b[1m12s\u001b[0m 2s/step - accuracy: 1.0000 - loss: 0.3122\n",
      "INFO:tensorflow:Assets written to: C:\\Users\\Lenovo\\AppData\\Local\\Temp\\tmp2n_e1506\\saved_model\\assets\n"
     ]
    },
    {
     "name": "stderr",
     "output_type": "stream",
     "text": [
      "INFO:tensorflow:Assets written to: C:\\Users\\Lenovo\\AppData\\Local\\Temp\\tmp2n_e1506\\saved_model\\assets\n"
     ]
    },
    {
     "name": "stdout",
     "output_type": "stream",
     "text": [
      "Saved artifact at 'C:\\Users\\Lenovo\\AppData\\Local\\Temp\\tmp2n_e1506\\saved_model'. The following endpoints are available:\n",
      "\n",
      "* Endpoint 'serve'\n",
      "  args_0 (POSITIONAL_ONLY): List[TensorSpec(shape=(None, 224, 224, 3), dtype=tf.float32, name='input_layer')]\n",
      "Output Type:\n",
      "  TensorSpec(shape=(None, 2), dtype=tf.float32, name=None)\n",
      "Captures:\n",
      "  2503868090896: TensorSpec(shape=(), dtype=tf.resource, name=None)\n",
      "  2503868090128: TensorSpec(shape=(), dtype=tf.resource, name=None)\n",
      "  2503868088784: TensorSpec(shape=(), dtype=tf.resource, name=None)\n",
      "  2503868091472: TensorSpec(shape=(), dtype=tf.resource, name=None)\n",
      "  2503868089168: TensorSpec(shape=(), dtype=tf.resource, name=None)\n",
      "  2503868088592: TensorSpec(shape=(), dtype=tf.resource, name=None)\n",
      "  2503868095120: TensorSpec(shape=(), dtype=tf.resource, name=None)\n",
      "  2503868089552: TensorSpec(shape=(), dtype=tf.resource, name=None)\n",
      "  2503868089936: TensorSpec(shape=(), dtype=tf.resource, name=None)\n",
      "  2503868096464: TensorSpec(shape=(), dtype=tf.resource, name=None)\n",
      "  2503868090512: TensorSpec(shape=(), dtype=tf.resource, name=None)\n",
      "  2503868091088: TensorSpec(shape=(), dtype=tf.resource, name=None)\n",
      "  2503868090704: TensorSpec(shape=(), dtype=tf.resource, name=None)\n",
      "  2503868094736: TensorSpec(shape=(), dtype=tf.resource, name=None)\n",
      "  2503868089360: TensorSpec(shape=(), dtype=tf.resource, name=None)\n",
      "  2503868091280: TensorSpec(shape=(), dtype=tf.resource, name=None)\n",
      "  2503868088400: TensorSpec(shape=(), dtype=tf.resource, name=None)\n",
      "  2503868090320: TensorSpec(shape=(), dtype=tf.resource, name=None)\n",
      "  2503857666768: TensorSpec(shape=(), dtype=tf.resource, name=None)\n",
      "  2503857664656: TensorSpec(shape=(), dtype=tf.resource, name=None)\n",
      "  2503857666960: TensorSpec(shape=(), dtype=tf.resource, name=None)\n",
      "  2503857667152: TensorSpec(shape=(), dtype=tf.resource, name=None)\n",
      "  2503857664080: TensorSpec(shape=(), dtype=tf.resource, name=None)\n",
      "  2503857665808: TensorSpec(shape=(), dtype=tf.resource, name=None)\n",
      "  2503857665616: TensorSpec(shape=(), dtype=tf.resource, name=None)\n",
      "  2503857666192: TensorSpec(shape=(), dtype=tf.resource, name=None)\n",
      "  2503857665424: TensorSpec(shape=(), dtype=tf.resource, name=None)\n",
      "  2503857665040: TensorSpec(shape=(), dtype=tf.resource, name=None)\n"
     ]
    },
    {
     "name": "stderr",
     "output_type": "stream",
     "text": [
      "Successfully registered model 'VGG16Model'.\n",
      "2025/06/24 21:22:28 INFO mlflow.tracking._model_registry.client: Waiting up to 300 seconds for model version to finish creation.                     Model name: VGG16Model, version 1\n",
      "Created version '1' of model 'VGG16Model'.\n"
     ]
    }
   ],
   "source": [
    "\n",
    "try:\n",
    "    config = ConfigurationManager()\n",
    "    eval_config = config.get_evaluation_config()\n",
    "    evaluation = Evaluation(eval_config)\n",
    "    evaluation.evaluation()\n",
    "    evaluation.log_into_mlflow()\n",
    "\n",
    "except Exception as e:\n",
    "   raise e"
   ]
  }
 ],
 "metadata": {
  "kernelspec": {
   "display_name": "mlops311",
   "language": "python",
   "name": "python3"
  },
  "language_info": {
   "codemirror_mode": {
    "name": "ipython",
    "version": 3
   },
   "file_extension": ".py",
   "mimetype": "text/x-python",
   "name": "python",
   "nbconvert_exporter": "python",
   "pygments_lexer": "ipython3",
   "version": "3.11.13"
  }
 },
 "nbformat": 4,
 "nbformat_minor": 5
}
