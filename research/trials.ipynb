{
 "cells": [
  {
   "cell_type": "code",
   "execution_count": null,
   "id": "6c8b1946",
   "metadata": {},
   "outputs": [],
   "source": [
    "d = {\"key\": \"value\", \"key1\":\"value1\" }"
   ]
  },
  {
   "cell_type": "code",
   "execution_count": null,
   "id": "752a9283",
   "metadata": {},
   "outputs": [],
   "source": [
    "d[\"key\"]"
   ]
  },
  {
   "cell_type": "code",
   "execution_count": null,
   "id": "1c3d377f",
   "metadata": {},
   "outputs": [],
   "source": [
    "d.key"
   ]
  },
  {
   "cell_type": "code",
   "execution_count": null,
   "id": "e2364c16",
   "metadata": {},
   "outputs": [],
   "source": [
    "from box import ConfigBox"
   ]
  },
  {
   "cell_type": "code",
   "execution_count": null,
   "id": "a275888a",
   "metadata": {},
   "outputs": [],
   "source": [
    "d2 = {\"key\": \"value\", \"key1\":\"value1\" }"
   ]
  },
  {
   "cell_type": "code",
   "execution_count": null,
   "id": "4302b77f",
   "metadata": {},
   "outputs": [],
   "source": []
  },
  {
   "cell_type": "code",
   "execution_count": null,
   "id": "5e2fdd77",
   "metadata": {},
   "outputs": [],
   "source": [
    "from box.config_box import ConfigBox\n",
    "\n",
    "cfg = ConfigBox({\"key\": \"value\", \"key1\": \"value1\"})\n",
    "print(cfg.key)   \n",
    "print(cfg.key1)  "
   ]
  },
  {
   "cell_type": "code",
   "execution_count": null,
   "id": "6f5f0738",
   "metadata": {},
   "outputs": [],
   "source": [
    "import gdown"
   ]
  },
  {
   "cell_type": "code",
   "execution_count": null,
   "id": "70fab57b",
   "metadata": {},
   "outputs": [],
   "source": [
    "url = \"https://drive.google.com/file/d/1utriKO3wJu5GIMWOC27dODSD00UJVDbf/view?usp=sharing\""
   ]
  },
  {
   "cell_type": "code",
   "execution_count": 3,
   "id": "d360fc97",
   "metadata": {},
   "outputs": [
    {
     "data": {
      "text/plain": [
       "str"
      ]
     },
     "execution_count": 3,
     "metadata": {},
     "output_type": "execute_result"
    }
   ],
   "source": [
    "type(url)\n"
   ]
  },
  {
   "cell_type": "code",
   "execution_count": 11,
   "id": "2a7f8e25",
   "metadata": {},
   "outputs": [
    {
     "name": "stdout",
     "output_type": "stream",
     "text": [
      "1utriKO3wJu5GIMWOC27dODSD0OUJVDbf\n"
     ]
    }
   ],
   "source": [
    "\n",
    "from urllib.parse import urlparse, parse_qs\n",
    "parsed_url = urlparse(url)\n",
    "query_params = parse_qs(parsed_url.query)\n",
    "file_id = query_params.get('id', [None])[0]\n",
    "print(file_id)"
   ]
  },
  {
   "cell_type": "code",
   "execution_count": null,
   "id": "0b870e91",
   "metadata": {},
   "outputs": [],
   "source": []
  }
 ],
 "metadata": {
  "kernelspec": {
   "display_name": "mlops311",
   "language": "python",
   "name": "python3"
  },
  "language_info": {
   "codemirror_mode": {
    "name": "ipython",
    "version": 3
   },
   "file_extension": ".py",
   "mimetype": "text/x-python",
   "name": "python",
   "nbconvert_exporter": "python",
   "pygments_lexer": "ipython3",
   "version": "3.11.13"
  }
 },
 "nbformat": 4,
 "nbformat_minor": 5
}
